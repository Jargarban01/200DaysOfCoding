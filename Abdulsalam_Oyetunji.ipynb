{
  "nbformat": 4,
  "nbformat_minor": 0,
  "metadata": {
    "colab": {
      "provenance": [],
      "authorship_tag": "ABX9TyPD/AbmU25tsa203I4OT3S9",
      "include_colab_link": true
    },
    "kernelspec": {
      "name": "python3",
      "display_name": "Python 3"
    },
    "language_info": {
      "name": "python"
    }
  },
  "cells": [
    {
      "cell_type": "markdown",
      "metadata": {
        "id": "view-in-github",
        "colab_type": "text"
      },
      "source": [
        "<a href=\"https://colab.research.google.com/github/Jargarban01/200DaysOfCoding/blob/main/Abdulsalam_Oyetunji.ipynb\" target=\"_parent\"><img src=\"https://colab.research.google.com/assets/colab-badge.svg\" alt=\"Open In Colab\"/></a>"
      ]
    },
    {
      "cell_type": "code",
      "source": [
        "# O(1) - Constant: Array access\n",
        "def get_first(arr):\n",
        "    return arr[0]\n",
        "\n",
        "# O(log n) - Logarithmic: Binary search\n",
        "def binary_search(arr, target):\n",
        "    left, right = 0, len(arr)-1\n",
        "    while left <= right:\n",
        "        mid = (left + right) // 2\n",
        "        if arr[mid] == target:\n",
        "            return mid\n",
        "        elif arr[mid] < target:\n",
        "            left = mid + 1\n",
        "        else:\n",
        "            right = mid - 1\n",
        "    return -1\n",
        "\n",
        "# O(n) - Linear: Sum array\n",
        "def sum_array(arr):\n",
        "    return sum(arr)\n",
        "\n",
        "# O(n log n) - Linearithmic: Merge sort\n",
        "def merge_sort(arr):\n",
        "    if len(arr) <= 1:\n",
        "        return arr\n",
        "    mid = len(arr) // 2\n",
        "    return merge(merge_sort(arr[:mid]), merge_sort(arr[mid:]))\n",
        "\n",
        "def merge(left, right):\n",
        "    result = []\n",
        "    i = j = 0\n",
        "    while i < len(left) and j < len(right):\n",
        "        if left[i] <= right[j]:\n",
        "            result.append(left[i])\n",
        "            i += 1\n",
        "        else:\n",
        "            result.append(right[j])\n",
        "            j += 1\n",
        "    result.extend(left[i:] + right[j:])\n",
        "    return result\n",
        "\n",
        "# O(n^2) - Quadratic: Bubble sort\n",
        "def bubble_sort(arr):\n",
        "    for i in range(len(arr)):\n",
        "        for j in range(0, len(arr)-i-1):\n",
        "            if arr[j] > arr[j+1]:\n",
        "                arr[j], arr[j+1] = arr[j+1], arr[j]\n",
        "    return arr\n",
        "\n",
        "# O(n^3) - Cubic: Triple loop\n",
        "def triple_loop(n):\n",
        "    count = 0\n",
        "    for i in range(n):\n",
        "        for j in range(n):\n",
        "            for k in range(n):\n",
        "                count += 1\n",
        "    return count"
      ],
      "metadata": {
        "id": "WLrG2Khm4-00"
      },
      "execution_count": 2,
      "outputs": []
    }
  ]
}