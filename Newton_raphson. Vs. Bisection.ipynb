{
  "nbformat": 4,
  "nbformat_minor": 0,
  "metadata": {
    "colab": {
      "provenance": [],
      "authorship_tag": "ABX9TyMHsd8yWASXSCIte5lBQxaV"
    },
    "kernelspec": {
      "name": "python3",
      "display_name": "Python 3"
    },
    "language_info": {
      "name": "python"
    }
  },
  "cells": [
    {
      "cell_type": "code",
      "execution_count": null,
      "metadata": {
        "id": "NIx4TPWkgqIz"
      },
      "outputs": [],
      "source": [
        "\n",
        "def compare_methods(f, df, a, b, x0, tol=1e-6):\n",
        "    \"\"\"\n",
        "    Compare Bisection and Newton-Raphson methods by steps to find a root.\n",
        "\n",
        "    Parameters:\n",
        "    f : function to find root of\n",
        "    df : derivative of f (for Newton-Raphson)\n",
        "    a, b : interval for Bisection\n",
        "    x0 : initial guess for Newton-Raphson\n",
        "    tol : tolerance for stopping\n",
        "\n",
        "    Returns:\n",
        "    tuple : (bisection_steps, newton_steps)\n",
        "    \"\"\"\n",
        "    # Bisection Method\n",
        "\n",
        "    bisection_steps = 0\n",
        "\n",
        "    while abs(b - a) > tol:\n",
        "        mid = (a + b) / 2\n",
        "        bisection_steps += 1\n",
        "        if f(a) * f(mid) < 0:\n",
        "            b = mid\n",
        "        else:\n",
        "            a = mid\n",
        "    print(mid)\n",
        "\n",
        "    # Newton-Raphson Method\n",
        "    x = x0\n",
        "    newton_steps = 0\n",
        "\n",
        "    while abs(f(x)) > tol:\n",
        "        x = x - f(x) / df(x)\n",
        "        newton_steps += 1\n",
        "    print(x)\n",
        "\n",
        "    return bisection_steps, newton_steps\n",
        "\n",
        "# Example usage\n",
        "def f(x):\n",
        "    return x**2 - 2  # Simple function: x^2 - 2\n",
        "\n",
        "def df(x):\n",
        "    return 2*x       # Derivative: 2x\n",
        "\n",
        "# Test with interval [1, 2], initial guess 1.5\n",
        "b_steps, n_steps = compare_methods(f, df, 1, 2, 1.5)\n",
        "\n",
        "print(f\"Bisection steps: {b_steps}\")\n",
        "print(f\"Newton-Raphson steps: {n_steps}\")"
      ]
    }
  ]
}