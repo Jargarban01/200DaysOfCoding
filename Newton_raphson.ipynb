{
  "nbformat": 4,
  "nbformat_minor": 0,
  "metadata": {
    "colab": {
      "provenance": [],
      "authorship_tag": "ABX9TyPYtZDWRnyUGozZhWvQ7d7C"
    },
    "kernelspec": {
      "name": "python3",
      "display_name": "Python 3"
    },
    "language_info": {
      "name": "python"
    }
  },
  "cells": [
    {
      "cell_type": "code",
      "execution_count": 1,
      "metadata": {
        "colab": {
          "base_uri": "https://localhost:8080/"
        },
        "id": "dc8WODAeA_Ni",
        "outputId": "ce431ea0-4112-4b1d-a768-5d5c7cce2715"
      },
      "outputs": [
        {
          "output_type": "stream",
          "name": "stdout",
          "text": [
            "\n",
            "Testing with initial approximation x0 = 0.0\n",
            "------------------------------------------------------------\n",
            "iter.\txk\t\tf(xk)\t\tError\n",
            "1\t0.2500000000000000\t-0.0366214574332189\t1.000000000000\n",
            "2\t0.2599382850500707\t-0.0000759982664045\t0.038233248512\n",
            "3\t0.2599589955313101\t-0.0000000003332494\t0.000079668262\n",
            "4\t0.2599589956221255\t-0.0000000000000004\t0.000000000349\n",
            "Required accuracy achieved; Solution is convergent.\n",
            "\n",
            "Testing with initial approximation x0 = 1.0\n",
            "------------------------------------------------------------\n",
            "iter.\txk\t\tf(xk)\t\tError\n",
            "1\t-0.1652937948139959\t-1.6733619416551648\t7.049833879882\n",
            "2\t0.2390243879297201\t-0.0771570929899676\t1.691535270713\n",
            "3\t0.2598688683344803\t-0.0003307305208982\t0.080211533372\n",
            "4\t0.2599589939024508\t-0.0000000063103875\t0.000346691479\n",
            "5\t0.2599589956221256\t0.0000000000000000\t0.000000006615\n",
            "Required accuracy achieved; Solution is convergent.\n",
            "\n",
            "Testing with initial approximation x0 = -1.0\n",
            "------------------------------------------------------------\n",
            "iter.\txk\t\tf(xk)\t\tError\n",
            "1\t0.2485192884106247\t-0.0420793899429548\t5.023832541914\n",
            "2\t0.2599317249832404\t-0.0001000708310783\t0.043905516240\n",
            "3\t0.2599589954646684\t-0.0000000005777927\t0.000104903011\n",
            "4\t0.2599589956221256\t0.0000000000000000\t0.000000000606\n",
            "Required accuracy achieved; Solution is convergent.\n"
          ]
        }
      ],
      "source": [
        "import math\n",
        "\n",
        "# Custom math functions to avoid NumPy\n",
        "def sin(x, terms=20):\n",
        "    result = 0\n",
        "    term = x\n",
        "    for n in range(terms):\n",
        "        result += term\n",
        "        term *= -x * x / ((2 * n + 2) * (2 * n + 3))\n",
        "    return result\n",
        "\n",
        "def cos(x, terms=20):\n",
        "    result = 0\n",
        "    term = 1\n",
        "    for n in range(terms):\n",
        "        result += term\n",
        "        term *= -x * x / ((2 * n + 1) * (2 * n + 2))\n",
        "    return result\n",
        "\n",
        "def exp(x, terms=20):\n",
        "    result = 0\n",
        "    term = 1\n",
        "    for n in range(terms):\n",
        "        result += term\n",
        "        term *= x / (n + 1)\n",
        "    return result\n",
        "\n",
        "# Function and its derivative\n",
        "def fval(x):\n",
        "    return 4 * x + sin(x) - exp(x)\n",
        "\n",
        "def dfval(x):\n",
        "    return 4 + cos(x) - exp(x)\n",
        "\n",
        "# Newton-Raphson method implementation\n",
        "def newton_raphson(x0, N=500, TOL=0.000001):\n",
        "    print(\"iter.\\txk\\t\\tf(xk)\\t\\tError\")\n",
        "    xk = x0\n",
        "    fxk = fval(xk)\n",
        "\n",
        "    for k in range(1, N + 1):\n",
        "        xp = xk\n",
        "        fxp = fxk\n",
        "        dfxp = dfval(xp)\n",
        "\n",
        "        if abs(dfxp) < 1e-10:  # Check for zero derivative\n",
        "            print(\"Derivative too close to zero. Method may fail.\")\n",
        "            return None\n",
        "\n",
        "        xk = xp - (fxp / dfxp)\n",
        "        fxk = fval(xk)\n",
        "        err = abs(xk - xp) / abs(xk) if xk != 0 else abs(xk - xp)\n",
        "\n",
        "        print(f\"{k}\\t{xk:.16f}\\t{fxk:.16f}\\t{err:.12f}\")\n",
        "\n",
        "        if err < TOL:\n",
        "            print(\"Required accuracy achieved; Solution is convergent.\")\n",
        "            return xk\n",
        "\n",
        "    print(\"The number of iterations exceeded the maximum limit.\")\n",
        "    return xk\n",
        "\n",
        "# Test the function with different initial approximations\n",
        "initial_guesses = [0.0, 1.0, -1.0]\n",
        "\n",
        "for x0 in initial_guesses:\n",
        "    print(f\"\\nTesting with initial approximation x0 = {x0}\")\n",
        "    print(\"-\" * 60)\n",
        "    newton_raphson(x0)"
      ]
    }
  ]
}