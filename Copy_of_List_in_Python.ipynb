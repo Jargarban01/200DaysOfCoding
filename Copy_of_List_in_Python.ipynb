{
  "nbformat": 4,
  "nbformat_minor": 0,
  "metadata": {
    "colab": {
      "provenance": [],
      "authorship_tag": "ABX9TyMlnS/MtbPFBUX+EAlETvcS",
      "include_colab_link": true
    },
    "kernelspec": {
      "name": "python3",
      "display_name": "Python 3"
    },
    "language_info": {
      "name": "python"
    }
  },
  "cells": [
    {
      "cell_type": "markdown",
      "metadata": {
        "id": "view-in-github",
        "colab_type": "text"
      },
      "source": [
        "<a href=\"https://colab.research.google.com/github/Jargarban01/200DaysOfCoding/blob/main/Copy_of_List_in_Python.ipynb\" target=\"_parent\"><img src=\"https://colab.research.google.com/assets/colab-badge.svg\" alt=\"Open In Colab\"/></a>"
      ]
    },
    {
      "cell_type": "markdown",
      "source": [
        "Creating A List"
      ],
      "metadata": {
        "id": "_6eSzcHx6axZ"
      }
    },
    {
      "cell_type": "code",
      "source": [
        "# Creating a list\n",
        "fruits = [\"apple\", \"banana\", \"orange\"]\n",
        "print(fruits)  # Output: ['apple', 'banana', 'orange']\n",
        "\n",
        "# Modifying a list (mutable)\n",
        "fruits[1] = \"grape\"\n",
        "print(fruits)  # Output: ['apple', 'grape', 'orange']\n",
        "\n",
        "# Adding an element\n",
        "fruits.append(\"mango\")\n",
        "print(fruits)  # Output: ['apple', 'grape', 'orange', 'mango']\n",
        "\n",
        "# Removing an element\n",
        "fruits.remove(\"apple\")\n",
        "print(fruits)  # Output: ['grape', 'orange', 'mango']"
      ],
      "metadata": {
        "colab": {
          "base_uri": "https://localhost:8080/"
        },
        "id": "KoE5jVwF4ttV",
        "outputId": "c1fc060c-3c1a-4fc1-d472-1a1024d8fa58"
      },
      "execution_count": null,
      "outputs": [
        {
          "output_type": "stream",
          "name": "stdout",
          "text": [
            "['apple', 'banana', 'orange']\n",
            "['apple', 'grape', 'orange']\n",
            "['apple', 'grape', 'orange', 'mango']\n",
            "['grape', 'orange', 'mango']\n"
          ]
        }
      ]
    },
    {
      "cell_type": "markdown",
      "source": [
        "Creating A Tuple"
      ],
      "metadata": {
        "id": "dE0YODDy6qw8"
      }
    },
    {
      "cell_type": "code",
      "source": [
        "# Creating a tuple\n",
        "coordinates = (10, 20)\n",
        "print(coordinates)  # Output: (10, 20)\n",
        "\n",
        "# Accessing elements\n",
        "print(coordinates[0])  # Output: 10\n",
        "\n",
        "# Attempting to modify (will raise an error)\n",
        "try:\n",
        "    coordinates[0] = 30  # TypeError: 'tuple' object does not support item assignment\n",
        "except TypeError as e:\n",
        "    print(e)\n",
        "\n",
        "# Tuples are often used for multiple return values\n",
        "def get_person():\n",
        "    return (\"Alice\", 25)\n",
        "\n",
        "name, age = get_person()\n",
        "print(name, age)  # Output: Alice 25"
      ],
      "metadata": {
        "colab": {
          "base_uri": "https://localhost:8080/"
        },
        "id": "7Xn0sdvQ5Pgr",
        "outputId": "298366d8-0028-4a53-ca65-ff8bd16641c7"
      },
      "execution_count": null,
      "outputs": [
        {
          "output_type": "stream",
          "name": "stdout",
          "text": [
            "(10, 20)\n",
            "10\n",
            "'tuple' object does not support item assignment\n",
            "Alice 25\n"
          ]
        }
      ]
    },
    {
      "cell_type": "markdown",
      "source": [
        "Creating A Range"
      ],
      "metadata": {
        "id": "CxMldOEb6N4I"
      }
    },
    {
      "cell_type": "code",
      "source": [
        "# Creating a range\n",
        "numbers = range(1, 6)  # Generates numbers from 1 to 5\n",
        "print(list(numbers))  # Output: [1, 2, 3, 4, 5]\n",
        "\n",
        "# Using range in a for loop\n",
        "for i in range(3):\n",
        "    print(i)  # Output: 0, 1, 2\n",
        "\n",
        "# Range with step\n",
        "evens = range(0, 10, 2)  # Step of 2\n",
        "print(list(evens))  # Output: [0, 2, 4, 6, 8]\n",
        "\n",
        "# Ranges are immutable\n",
        "try:\n",
        "    numbers[0] = 10  # TypeError: 'range' object does not support item assignment\n",
        "except TypeError as e:\n",
        "    print(e)"
      ],
      "metadata": {
        "colab": {
          "base_uri": "https://localhost:8080/"
        },
        "id": "R1usdmHD5ndN",
        "outputId": "bbf3545c-326b-4138-9326-bc16aa74c46b"
      },
      "execution_count": null,
      "outputs": [
        {
          "output_type": "stream",
          "name": "stdout",
          "text": [
            "[1, 2, 3, 4, 5]\n",
            "0\n",
            "1\n",
            "2\n",
            "[0, 2, 4, 6, 8]\n",
            "'range' object does not support item assignment\n"
          ]
        }
      ]
    }
  ]
}