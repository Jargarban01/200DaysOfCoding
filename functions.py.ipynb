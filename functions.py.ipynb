{
 "cells": [
  {
   "cell_type": "code",
   "execution_count": 1,
   "metadata": {},
   "outputs": [
    {
     "name": "stdout",
     "output_type": "stream",
     "text": [
      "4.0\n",
      "3.0\n",
      "5.0\n",
      "5.0\n"
     ]
    }
   ],
   "source": [
    "def nth_root(a, n, tolerance=1e-10, max_iterations=100):\n",
    "    \"\"\"\n",
    "    Calculate the nth root of a number using the Newton-Raphson method.\n",
    "    \n",
    "    Parameters:\n",
    "    a (float): The number to find the nth root of (must be non-negative if n is even).\n",
    "    n (int): The root (e.g., 2 for square root, 3 for cube root).\n",
    "    tolerance (float): The precision threshold for convergence.\n",
    "    max_iterations (int): Maximum number of iterations to prevent infinite loops.\n",
    "    \n",
    "    Returns:\n",
    "    float: The nth root of a.\n",
    "    \"\"\"\n",
    "    if a < 0 and n % 2 == 0:\n",
    "        raise ValueError(\"Cannot compute even root of a negative number\")\n",
    "    if n == 0:\n",
    "        raise ValueError(\"Root cannot be zero\")\n",
    "    \n",
    "    # Initial guess: Use a/2 for simplicity\n",
    "    x = a / 2 if a != 0 else 1\n",
    "    \n",
    "    for _ in range(max_iterations):\n",
    "        # Newton-Raphson update: x = x - (x^n - a)/(n * x^(n-1))\n",
    "        next_x = x - (x**n - a) / (n * x**(n-1))\n",
    "        \n",
    "        # Check for convergence\n",
    "        if abs(next_x - x) < tolerance:\n",
    "            return next_x\n",
    "        x = next_x\n",
    "    \n",
    "    return x  # Return the best approximation\n",
    "\n",
    "\n",
    "\n",
    "#finding euclidean distance \n",
    "def euclidean_distance(x1, y1, x2, y2):\n",
    "    \"\"\"\n",
    "    Calculate the Euclidean distance between two points in a 2D plane.\n",
    "    \n",
    "    Parameters:\n",
    "    x1, y1 (float): Coordinates of the first point.\n",
    "    x2, y2 (float): Coordinates of the second point.\n",
    "    \n",
    "    Returns:\n",
    "    float: The Euclidean distance between the two points.\n",
    "    \"\"\"\n",
    "    return ((x2 - x1) ** 2 + (y2 - y1) ** 2) ** 0.5\n",
    "\n",
    "# Test the nth_root function\n",
    "print(nth_root(16, 2))  # Should output approximately 4.0 (square root)\n",
    "print(nth_root(27, 3))  # Should output approximately 3.0 (cube root)\n",
    "\n",
    "# Test the euclidean_distance function\n",
    "print(euclidean_distance(0, 0, 3, 4))  # Should output 5.0\n",
    "print(euclidean_distance(1, 1, 4, 5))  # Should output 5.0"
   ]
  },
  {
   "cell_type": "code",
   "execution_count": null,
   "metadata": {},
   "outputs": [],
   "source": []
  }
 ],
 "metadata": {
  "kernelspec": {
   "display_name": "Python 3",
   "language": "python",
   "name": "python3"
  },
  "language_info": {
   "codemirror_mode": {
    "name": "ipython",
    "version": 3
   },
   "file_extension": ".py",
   "mimetype": "text/x-python",
   "name": "python",
   "nbconvert_exporter": "python",
   "pygments_lexer": "ipython3",
   "version": "3.8.5"
  }
 },
 "nbformat": 4,
 "nbformat_minor": 4
}
